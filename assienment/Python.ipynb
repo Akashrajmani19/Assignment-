{
 "cells": [
  {
   "cell_type": "markdown",
   "metadata": {},
   "source": [
    "Q1. Write an efficient algorithm that searches for a value target in an m x n integer matrix. This matrix has the following properties:\n",
    "      Integers in each row are sorted from right to left.The first integer of each row is greater than the last integer of the previous row."
   ]
  },
  {
   "cell_type": "code",
   "execution_count": 7,
   "metadata": {},
   "outputs": [],
   "source": [
    "def search_matrix(A, target):\n",
    "    if not A or not A[0]: \n",
    "        \"\"\" Checking that first row of matrix is empty or not\"\"\"\n",
    "        return False\n",
    "\n",
    "    rows = len(A)\n",
    "    cols = len(A[0])\n",
    "    left= 0\n",
    "    right = rows * cols - 1\n",
    "\n",
    "    while left <= right:\n",
    "        mid = (left + right) // 2\n",
    "        mid_value = A[mid // cols][mid % cols]\n",
    "\n",
    "        if mid_value == target:\n",
    "            return True\n",
    "        elif mid_value < target:\n",
    "            left = mid + 1\n",
    "        else:\n",
    "            right = mid - 1\n",
    "\n",
    "    return False\n",
    "\n"
   ]
  },
  {
   "cell_type": "code",
   "execution_count": 10,
   "metadata": {},
   "outputs": [
    {
     "name": "stdout",
     "output_type": "stream",
     "text": [
      "Output : True\n"
     ]
    }
   ],
   "source": [
    "\n",
    "# Example Matrix given in Question\n",
    "A = [[1, 3, 5, 7], \n",
    "    [10, 11, 16, 20], \n",
    "    [23, 30, 34, 60]]\n",
    "target = 3\n",
    "result = search_matrix(A, target)\n",
    "print(f\"Output : {result}\")"
   ]
  },
  {
   "cell_type": "markdown",
   "metadata": {},
   "source": [
    "Q.2 Write a program that takes a string as input, and counts the frequency of each word in the string, there might  be repeated characters in the string. Your task is to find the highest frequency and returns the length of the  highest-frequency word.      \n",
    "\n",
    "\n",
    "Note - You have to write at least 2 additional test cases in which your program will run successfully and provide  an explanation for the same.  "
   ]
  },
  {
   "cell_type": "code",
   "execution_count": 8,
   "metadata": {},
   "outputs": [],
   "source": [
    "def highest_frequency_word_length(input_string):\n",
    "    words = input_string.split()\n",
    "    word_freq = {}\n",
    "    for word in words:\n",
    "        word_freq[word] = word_freq.get(word, 0) + 1\n",
    "\n",
    "    max_word = max(word_freq, key=word_freq.get)\n",
    "    return len(max_word),max_word"
   ]
  },
  {
   "cell_type": "code",
   "execution_count": 9,
   "metadata": {},
   "outputs": [
    {
     "name": "stdout",
     "output_type": "stream",
     "text": [
      "(5, 'write')\n"
     ]
    }
   ],
   "source": [
    "# Example given in question\n",
    "input_string = \"write write write all the number from from from 1 to 100\"\n",
    "output = highest_frequency_word_length(input_string)\n",
    "print(output)"
   ]
  },
  {
   "cell_type": "code",
   "execution_count": 12,
   "metadata": {},
   "outputs": [
    {
     "name": "stdout",
     "output_type": "stream",
     "text": [
      "(5, 'apple')\n"
     ]
    }
   ],
   "source": [
    "# Test_Case_1\n",
    "input_string_1 = \"apple banana graphs graphs banana apple apple strowberry\"\n",
    "output_1 = highest_frequency_word_length(input_string_1)\n",
    "print(output_1)"
   ]
  },
  {
   "cell_type": "code",
   "execution_count": 11,
   "metadata": {},
   "outputs": [
    {
     "name": "stdout",
     "output_type": "stream",
     "text": [
      "(6, 'python')\n"
     ]
    }
   ],
   "source": [
    "# Test_Case_2\n",
    "input_string_2 = \"python python java python java java c++ python\"\n",
    "output_2 = highest_frequency_word_length(input_string_2)\n",
    "print(output_2)"
   ]
  },
  {
   "cell_type": "code",
   "execution_count": null,
   "metadata": {},
   "outputs": [],
   "source": []
  }
 ],
 "metadata": {
  "kernelspec": {
   "display_name": "Python 3",
   "language": "python",
   "name": "python3"
  },
  "language_info": {
   "codemirror_mode": {
    "name": "ipython",
    "version": 3
   },
   "file_extension": ".py",
   "mimetype": "text/x-python",
   "name": "python",
   "nbconvert_exporter": "python",
   "pygments_lexer": "ipython3",
   "version": "3.10.13"
  }
 },
 "nbformat": 4,
 "nbformat_minor": 2
}
